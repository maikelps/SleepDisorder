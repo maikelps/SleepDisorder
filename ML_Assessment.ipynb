{
 "cells": [
  {
   "cell_type": "code",
   "execution_count": 1,
   "metadata": {},
   "outputs": [],
   "source": [
    "import pandas as pd\n",
    "import numpy as np\n",
    "from modeling import cleaned_fr\n",
    "import seaborn as sns\n",
    "import matplotlib.pyplot as plt\n",
    "import warnings\n",
    "warnings.filterwarnings(\"ignore\")"
   ]
  },
  {
   "cell_type": "markdown",
   "metadata": {},
   "source": [
    "ML Lib:"
   ]
  },
  {
   "cell_type": "code",
   "execution_count": 2,
   "metadata": {},
   "outputs": [],
   "source": [
    "from sklearn.model_selection import RepeatedKFold\n",
    "from sklearn.preprocessing import MinMaxScaler, RobustScaler, FunctionTransformer\n",
    "from sklearn.compose import ColumnTransformer\n",
    "from sklearn.pipeline import Pipeline\n",
    "\n",
    "from sklearn.naive_bayes import BernoulliNB, GaussianNB\n",
    "from sklearn.tree import DecisionTreeClassifier\n",
    "from sklearn.ensemble import ExtraTreesClassifier\n",
    "from sklearn.neighbors import KNeighborsClassifier\n",
    "from sklearn.svm import SVC\n",
    "from sklearn.linear_model import LogisticRegression\n",
    "from sklearn.neural_network import MLPClassifier\n",
    "from xgboost import XGBClassifier\n",
    "\n",
    "from sklearn.metrics import accuracy_score, precision_score, recall_score, f1_score, roc_auc_score"
   ]
  },
  {
   "cell_type": "markdown",
   "metadata": {},
   "source": [
    "# _Robust Scaled Model with Systolic_"
   ]
  },
  {
   "cell_type": "markdown",
   "metadata": {},
   "source": [
    "# Experiment 1\n",
    "\n",
    "Fitting some basic models and assessing their performance without any parameter fine-tunning."
   ]
  },
  {
   "cell_type": "code",
   "execution_count": 3,
   "metadata": {},
   "outputs": [],
   "source": [
    "# Models in experiment 1\n",
    "models = {\n",
    "            'BernoulliNB' : BernoulliNB(),\n",
    "            'GaussianNB' : GaussianNB(),\n",
    "            'DTr' : DecisionTreeClassifier(),\n",
    "            'ExTrs': ExtraTreesClassifier(),\n",
    "            'KNeigh' : KNeighborsClassifier(),\n",
    "            'svc': SVC(probability=True),\n",
    "            'xgb' : XGBClassifier(),\n",
    "            'logistic' : LogisticRegression(),\n",
    "            'MLP' : MLPClassifier()\n",
    "        }"
   ]
  },
  {
   "cell_type": "code",
   "execution_count": 4,
   "metadata": {},
   "outputs": [],
   "source": [
    "# Importing cleaned frame\n",
    "df = cleaned_fr()\n",
    "\n",
    "# Separating\n",
    "X, y = df.iloc[:, :-1], df.iloc[:, -1]\n",
    "\n",
    "# Select binary columns to avoid scaling below\n",
    "binary_cols = X.select_dtypes('uint8').columns\n",
    "\n",
    "# Remaining columns\n",
    "non_binary_cols = [col for col in X.columns if col not in binary_cols]\n",
    "\n",
    "# Times to repeat Kfold instance\n",
    "rKF = RepeatedKFold(n_repeats=34, n_splits=3, random_state=23)"
   ]
  },
  {
   "cell_type": "code",
   "execution_count": 5,
   "metadata": {},
   "outputs": [],
   "source": [
    "# Transformer that scales the non-binary columns and does nothing to the binary columns\n",
    "preprocessor = ColumnTransformer(\n",
    "    transformers=[\n",
    "        ('num', RobustScaler(), non_binary_cols),\n",
    "        ('bin', FunctionTransformer(None, validate=False), binary_cols) # does nothing\n",
    "    ])\n",
    "\n",
    "_folds, _names, _accuracy, _precision, _recall, _f1, _auc, _set_type = [], [], [], [], [], [], [], []\n",
    "\n",
    "for MODEL_NAME, ML_MODEL in models.items():\n",
    "    for fold_id, (train_index, test_index) in enumerate(rKF.split(X)):\n",
    "        \n",
    "        # Train test split\n",
    "        X_train, y_train = X.iloc[train_index], y.iloc[train_index]\n",
    "        X_test, y_test = X.iloc[test_index], y.iloc[test_index] \n",
    "\n",
    "        # Pipeline for training\n",
    "        _local_pipe = Pipeline([\n",
    "                                ('preprocessor', preprocessor),\n",
    "                                (MODEL_NAME, ML_MODEL)\n",
    "                            ])\n",
    "\n",
    "        # Fitting\n",
    "        _local_pipe.fit(X_train, y_train)\n",
    "\n",
    "        # Test the results in training and test to check for overfitting\n",
    "        lab = {'train' : (X_train, y_train), 'test': (X_test, y_test)}\n",
    "\n",
    "        for lab_type, (X1,Y1) in lab.items():\n",
    "\n",
    "            # Keeping len\n",
    "            _folds.append(fold_id)\n",
    "            _names.append(MODEL_NAME)\n",
    "            _set_type.append( lab_type )\n",
    "\n",
    "            # Predictions\n",
    "            y_pred = _local_pipe.predict(X1)\n",
    "\n",
    "            # Proba for AUC\n",
    "            y_proba = _local_pipe.predict_proba(X1)[:, 1]  # Probabilities for the positive class\n",
    "            _auc.append( roc_auc_score(Y1, y_proba) )\n",
    "            \n",
    "            # Metrics\n",
    "            _accuracy.append( accuracy_score(Y1, y_pred) )\n",
    "            _precision.append( precision_score(Y1, y_pred) )\n",
    "            _recall.append( recall_score(Y1, y_pred) ) #<-- intended\n",
    "            _f1.append( f1_score(Y1, y_pred) )"
   ]
  },
  {
   "cell_type": "code",
   "execution_count": 6,
   "metadata": {},
   "outputs": [],
   "source": [
    "# Saving in DataFrame\n",
    "result_df = pd.DataFrame( {'fold_id':_folds, 'model_name':_names, 'set': _set_type, 'accuracy':_accuracy, 'precision':_precision, 'recall':_recall, 'f1':_f1, 'auc':_auc} )"
   ]
  },
  {
   "cell_type": "code",
   "execution_count": 7,
   "metadata": {},
   "outputs": [
    {
     "data": {
      "text/html": [
       "<div>\n",
       "<style scoped>\n",
       "    .dataframe tbody tr th:only-of-type {\n",
       "        vertical-align: middle;\n",
       "    }\n",
       "\n",
       "    .dataframe tbody tr th {\n",
       "        vertical-align: top;\n",
       "    }\n",
       "\n",
       "    .dataframe thead th {\n",
       "        text-align: right;\n",
       "    }\n",
       "</style>\n",
       "<table border=\"1\" class=\"dataframe\">\n",
       "  <thead>\n",
       "    <tr style=\"text-align: right;\">\n",
       "      <th>set</th>\n",
       "      <th>train</th>\n",
       "      <th>test</th>\n",
       "    </tr>\n",
       "    <tr>\n",
       "      <th>model_name</th>\n",
       "      <th></th>\n",
       "      <th></th>\n",
       "    </tr>\n",
       "  </thead>\n",
       "  <tbody>\n",
       "    <tr>\n",
       "      <th>svc</th>\n",
       "      <td>0.922556</td>\n",
       "      <td>0.921735</td>\n",
       "    </tr>\n",
       "    <tr>\n",
       "      <th>MLP</th>\n",
       "      <td>0.921616</td>\n",
       "      <td>0.919189</td>\n",
       "    </tr>\n",
       "    <tr>\n",
       "      <th>GaussianNB</th>\n",
       "      <td>0.920259</td>\n",
       "      <td>0.917693</td>\n",
       "    </tr>\n",
       "    <tr>\n",
       "      <th>xgb</th>\n",
       "      <td>0.925043</td>\n",
       "      <td>0.917514</td>\n",
       "    </tr>\n",
       "    <tr>\n",
       "      <th>BernoulliNB</th>\n",
       "      <td>0.909704</td>\n",
       "      <td>0.909776</td>\n",
       "    </tr>\n",
       "    <tr>\n",
       "      <th>logistic</th>\n",
       "      <td>0.914421</td>\n",
       "      <td>0.907028</td>\n",
       "    </tr>\n",
       "    <tr>\n",
       "      <th>KNeigh</th>\n",
       "      <td>0.916918</td>\n",
       "      <td>0.905545</td>\n",
       "    </tr>\n",
       "    <tr>\n",
       "      <th>DTr</th>\n",
       "      <td>0.920281</td>\n",
       "      <td>0.884197</td>\n",
       "    </tr>\n",
       "    <tr>\n",
       "      <th>ExTrs</th>\n",
       "      <td>0.920281</td>\n",
       "      <td>0.883903</td>\n",
       "    </tr>\n",
       "  </tbody>\n",
       "</table>\n",
       "</div>"
      ],
      "text/plain": [
       "set             train      test\n",
       "model_name                     \n",
       "svc          0.922556  0.921735\n",
       "MLP          0.921616  0.919189\n",
       "GaussianNB   0.920259  0.917693\n",
       "xgb          0.925043  0.917514\n",
       "BernoulliNB  0.909704  0.909776\n",
       "logistic     0.914421  0.907028\n",
       "KNeigh       0.916918  0.905545\n",
       "DTr          0.920281  0.884197\n",
       "ExTrs        0.920281  0.883903"
      ]
     },
     "execution_count": 7,
     "metadata": {},
     "output_type": "execute_result"
    }
   ],
   "source": [
    "# Quick  look to the average performance\n",
    "result_df.groupby(by=['model_name','set']).agg({'mean'}).loc[:,'recall'].unstack().droplevel(0,axis=1).filter(['train','test']).sort_values(by=['test'], ascending=False)"
   ]
  },
  {
   "cell_type": "code",
   "execution_count": 8,
   "metadata": {},
   "outputs": [
    {
     "data": {
      "text/html": [
       "<div>\n",
       "<style scoped>\n",
       "    .dataframe tbody tr th:only-of-type {\n",
       "        vertical-align: middle;\n",
       "    }\n",
       "\n",
       "    .dataframe tbody tr th {\n",
       "        vertical-align: top;\n",
       "    }\n",
       "\n",
       "    .dataframe thead th {\n",
       "        text-align: right;\n",
       "    }\n",
       "</style>\n",
       "<table border=\"1\" class=\"dataframe\">\n",
       "  <thead>\n",
       "    <tr style=\"text-align: right;\">\n",
       "      <th>set</th>\n",
       "      <th>train</th>\n",
       "      <th>test</th>\n",
       "    </tr>\n",
       "    <tr>\n",
       "      <th>model_name</th>\n",
       "      <th></th>\n",
       "      <th></th>\n",
       "    </tr>\n",
       "  </thead>\n",
       "  <tbody>\n",
       "    <tr>\n",
       "      <th>svc</th>\n",
       "      <td>0.017024</td>\n",
       "      <td>0.033867</td>\n",
       "    </tr>\n",
       "    <tr>\n",
       "      <th>MLP</th>\n",
       "      <td>0.016926</td>\n",
       "      <td>0.034244</td>\n",
       "    </tr>\n",
       "    <tr>\n",
       "      <th>BernoulliNB</th>\n",
       "      <td>0.018462</td>\n",
       "      <td>0.036642</td>\n",
       "    </tr>\n",
       "    <tr>\n",
       "      <th>xgb</th>\n",
       "      <td>0.017293</td>\n",
       "      <td>0.037232</td>\n",
       "    </tr>\n",
       "    <tr>\n",
       "      <th>logistic</th>\n",
       "      <td>0.018360</td>\n",
       "      <td>0.038257</td>\n",
       "    </tr>\n",
       "    <tr>\n",
       "      <th>GaussianNB</th>\n",
       "      <td>0.015361</td>\n",
       "      <td>0.038802</td>\n",
       "    </tr>\n",
       "    <tr>\n",
       "      <th>KNeigh</th>\n",
       "      <td>0.019251</td>\n",
       "      <td>0.041238</td>\n",
       "    </tr>\n",
       "    <tr>\n",
       "      <th>ExTrs</th>\n",
       "      <td>0.017235</td>\n",
       "      <td>0.051854</td>\n",
       "    </tr>\n",
       "    <tr>\n",
       "      <th>DTr</th>\n",
       "      <td>0.017235</td>\n",
       "      <td>0.053603</td>\n",
       "    </tr>\n",
       "  </tbody>\n",
       "</table>\n",
       "</div>"
      ],
      "text/plain": [
       "set             train      test\n",
       "model_name                     \n",
       "svc          0.017024  0.033867\n",
       "MLP          0.016926  0.034244\n",
       "BernoulliNB  0.018462  0.036642\n",
       "xgb          0.017293  0.037232\n",
       "logistic     0.018360  0.038257\n",
       "GaussianNB   0.015361  0.038802\n",
       "KNeigh       0.019251  0.041238\n",
       "ExTrs        0.017235  0.051854\n",
       "DTr          0.017235  0.053603"
      ]
     },
     "execution_count": 8,
     "metadata": {},
     "output_type": "execute_result"
    }
   ],
   "source": [
    "# Quick  look to the average performance\n",
    "result_df.groupby(by=['model_name','set']).agg({'std'}).loc[:,'recall'].unstack().droplevel(0,axis=1).filter(['train','test']).sort_values(by=['test'])"
   ]
  },
  {
   "cell_type": "code",
   "execution_count": 9,
   "metadata": {},
   "outputs": [
    {
     "data": {
      "image/png": "[encoded data removed]",
      "text/plain": [
       "<Figure size 1200x400 with 1 Axes>"
      ]
     },
     "metadata": {},
     "output_type": "display_data"
    }
   ],
   "source": [
    "fig, ax = plt.subplots(figsize=(12,4))\n",
    "\n",
    "sns.barplot(\n",
    "    data = result_df.filter(['fold_id', 'model_name', 'set'] + [\"recall\"]),\n",
    "    x=\"model_name\", y=\"recall\", hue=\"set\",\n",
    "    palette=\"Reds\", alpha=.75, ax=ax, errorbar='sd'\n",
    ")\n",
    "\n",
    "sns.despine(top=True, right=True)\n",
    "\n",
    "# Set y-axis limits\n",
    "ax.set_ylim(0.7, 1)\n",
    "\n",
    "# Move legend outside of the plot\n",
    "ax.legend(loc='upper left', bbox_to_anchor=(1, 1))\n",
    "\n",
    "plt.tight_layout()  # Adjust layout so everything fits nicely\n",
    "plt.savefig('experiment1_recall.png', dpi=200 )\n",
    "plt.show()"
   ]
  },
  {
   "cell_type": "code",
   "execution_count": 10,
   "metadata": {},
   "outputs": [
    {
     "data": {
      "image/png": "[encoded data removed]",
      "text/plain": [
       "<Figure size 1200x400 with 1 Axes>"
      ]
     },
     "metadata": {},
     "output_type": "display_data"
    },
    {
     "data": {
      "image/png": "[encoded data removed]",
      "text/plain": [
       "<Figure size 1200x400 with 1 Axes>"
      ]
     },
     "metadata": {},
     "output_type": "display_data"
    },
    {
     "data": {
      "image/png": "[encoded data removed]",
      "text/plain": [
       "<Figure size 1200x400 with 1 Axes>"
      ]
     },
     "metadata": {},
     "output_type": "display_data"
    },
    {
     "data": {
      "image/png": "[encoded data removed]",
      "text/plain": [
       "<Figure size 1200x400 with 1 Axes>"
      ]
     },
     "metadata": {},
     "output_type": "display_data"
    },
    {
     "data": {
      "image/png": "[encoded data removed]",
      "text/plain": [
       "<Figure size 1200x400 with 1 Axes>"
      ]
     },
     "metadata": {},
     "output_type": "display_data"
    }
   ],
   "source": [
    "for metric in result_df.columns[3:]:\n",
    "\n",
    "    fig, ax = plt.subplots(figsize=(12,4))\n",
    "\n",
    "    sns.barplot(\n",
    "        data = result_df.filter(['fold_id', 'model_name', 'set'] + [metric]),\n",
    "        x=\"model_name\", y=metric, hue=\"set\",\n",
    "        palette=\"Reds\", alpha=.75, ax=ax, errorbar='sd'\n",
    "    )\n",
    "\n",
    "    sns.despine(top=True, right=True)\n",
    "\n",
    "    # Set y-axis limits\n",
    "    ax.set_ylim(0.7, 1)\n",
    "\n",
    "    # Move legend outside of the plot\n",
    "    ax.legend(loc='upper left', bbox_to_anchor=(1, 1))\n",
    "\n",
    "    plt.tight_layout()  # Adjust layout so everything fits nicely\n",
    "    plt.show()"
   ]
  },
  {
   "cell_type": "code",
   "execution_count": 11,
   "metadata": {},
   "outputs": [],
   "source": [
    "# Saving Result\n",
    "result_df.to_csv('Data/SystolicResultsExperiment1.csv')"
   ]
  },
  {
   "cell_type": "markdown",
   "metadata": {},
   "source": [
    "# Experiment 2\n",
    "\n",
    "Based on experiment 1 results for recall, which measures the rate of values correctly predicted positive and the real positive, we designate for further exploration and/or hyperparameter fine-tunning the models:\n",
    "\n",
    "* _GaussianNB_ (no fine-tunning required)\n",
    "* _MLP_.\n",
    "* _SVC_: With the highest average recall and the lowest std. We could extract more value from it.\n",
    "\n",
    "Let's try to find parameters that improve the performance of the default parametrization\n",
    "\n",
    "## MLP Parameter tunning"
   ]
  },
  {
   "cell_type": "code",
   "execution_count": 7,
   "metadata": {},
   "outputs": [],
   "source": [
    "from sklearn.model_selection import GridSearchCV"
   ]
  },
  {
   "cell_type": "code",
   "execution_count": 8,
   "metadata": {},
   "outputs": [
    {
     "name": "stdout",
     "output_type": "stream",
     "text": [
      "Fitting 5 folds for each of 90 candidates, totalling 450 fits\n",
      "Best parameters: {'MLP__activation': 'tanh', 'MLP__early_stopping': True, 'MLP__hidden_layer_sizes': (300, 200, 100), 'MLP__max_iter': 400, 'MLP__solver': 'adam', 'MLP__validation_fraction': 0.25}\n",
      "Best cross-validation score: 0.9226\n"
     ]
    }
   ],
   "source": [
    "# Model to tune\n",
    "model = MLPClassifier()\n",
    "\n",
    "# Recalling the preprocessor\n",
    "preprocessor = ColumnTransformer(\n",
    "    transformers=[\n",
    "        ('num', RobustScaler(), non_binary_cols),\n",
    "        ('bin', FunctionTransformer(None, validate=False), binary_cols) # does nothing\n",
    "    ])\n",
    "\n",
    "_search_pipe = Pipeline([\n",
    "                        ('preprocessor', preprocessor),\n",
    "                        ('MLP', model)\n",
    "                    ])\n",
    "\n",
    "# Parameters for grid search\n",
    "param_grid = {\n",
    "    'MLP__hidden_layer_sizes': [(200,), (200,100),(300,200,100), (200,100,50), (300,200,100)],\n",
    "    'MLP__activation': ['logistic','tanh','relu'],\n",
    "    'MLP__solver': ['lbfgs', 'adam'],\n",
    "    'MLP__max_iter': [200,300,400],\n",
    "    'MLP__early_stopping': [True], # Adding these last two parameters to make sure the loop doesn't get stuck unwantedly and shorten execution time\n",
    "    'MLP__validation_fraction': [.25]\n",
    "}\n",
    "\n",
    "grid_search = GridSearchCV(_search_pipe, param_grid, cv=5, verbose=1, scoring='recall')\n",
    "grid_search.fit(X, y)\n",
    "\n",
    "print(f\"Best parameters: {grid_search.best_params_}\")\n",
    "print(f\"Best cross-validation score: {grid_search.best_score_:.4f}\")"
   ]
  },
  {
   "cell_type": "code",
   "execution_count": 9,
   "metadata": {},
   "outputs": [
    {
     "name": "stdout",
     "output_type": "stream",
     "text": [
      "Selected Parameters: {'activation': 'tanh', 'hidden_layer_sizes': (300, 200, 100), 'max_iter': 400, 'solver': 'adam'}\n"
     ]
    }
   ],
   "source": [
    "# Getting the best parameters\n",
    "mlp_parameters = {key[5:] : val for key, val in grid_search.best_params_.items()}\n",
    "\n",
    "# Dropping unwanted parameters\n",
    "mlp_parameters.pop('early_stopping')\n",
    "mlp_parameters.pop('validation_fraction')\n",
    "\n",
    "print(\"Selected Parameters:\", mlp_parameters)\n",
    "\n",
    "# Getting the best mlp parameters from the dictionary above\n",
    "best_mlp_model = MLPClassifier( **mlp_parameters )"
   ]
  },
  {
   "cell_type": "markdown",
   "metadata": {},
   "source": [
    "## SVC Parameter tunning"
   ]
  },
  {
   "cell_type": "code",
   "execution_count": 10,
   "metadata": {},
   "outputs": [
    {
     "name": "stdout",
     "output_type": "stream",
     "text": [
      "Fitting 5 folds for each of 200 candidates, totalling 1000 fits\n",
      "Best parameters: {'TunedSVC__C': 0.1, 'TunedSVC__degree': 1, 'TunedSVC__kernel': 'linear', 'TunedSVC__probability': True}\n",
      "Best cross-validation Recall: 0.8968\n"
     ]
    }
   ],
   "source": [
    "# Model to tune\n",
    "model = SVC()\n",
    "\n",
    "# Recalling the preprocessor\n",
    "preprocessor = ColumnTransformer(\n",
    "    transformers=[\n",
    "        ('num', RobustScaler(), non_binary_cols),\n",
    "        ('bin', FunctionTransformer(None, validate=False), binary_cols) # does nothing\n",
    "    ])\n",
    "\n",
    "_search_pipe = Pipeline([\n",
    "                        ('preprocessor', preprocessor),\n",
    "                        ('TunedSVC', model)\n",
    "                    ])\n",
    "\n",
    "# Parameters for grid search\n",
    "param_grid = {\n",
    "    'TunedSVC__kernel' : ['linear', 'poly', 'rbf', 'sigmoid'],\n",
    "    'TunedSVC__degree' : [1,2,3,4,5],\n",
    "    'TunedSVC__C' : [.1,.2,.3,.4,.5,.6,.7,.8,.9,1],\n",
    "    'TunedSVC__probability' : [True] \n",
    "}\n",
    "\n",
    "grid_search = GridSearchCV(_search_pipe, param_grid, cv=5, verbose=1, scoring='recall')\n",
    "grid_search.fit(X, y)\n",
    "\n",
    "print(f\"Best parameters: {grid_search.best_params_}\")\n",
    "print(f\"Best cross-validation Recall: {grid_search.best_score_:.4f}\")"
   ]
  },
  {
   "cell_type": "markdown",
   "metadata": {},
   "source": [
    "Let's keep the default parameters since there's no improvement in recall."
   ]
  },
  {
   "cell_type": "code",
   "execution_count": 11,
   "metadata": {},
   "outputs": [],
   "source": [
    "#best_svc_model = SVC( **{key[10:] : val for key, val in grid_search.best_params_.items()} )\n",
    "best_svc_model = SVC(probability=True)"
   ]
  },
  {
   "cell_type": "markdown",
   "metadata": {},
   "source": [
    "# Final Experiment\n",
    "\n",
    "Besides taking the best 3 classifiers. Let's also merge them into voting and stacking methods to try to improve recall"
   ]
  },
  {
   "cell_type": "code",
   "execution_count": 12,
   "metadata": {},
   "outputs": [],
   "source": [
    "from sklearn.ensemble import VotingClassifier\n",
    "from sklearn.ensemble import StackingClassifier"
   ]
  },
  {
   "cell_type": "code",
   "execution_count": 13,
   "metadata": {},
   "outputs": [],
   "source": [
    "# Models in Final Experiment\n",
    "models = {\n",
    "    'GaussianNB' : GaussianNB(),\n",
    "    'bestMLP' : best_mlp_model,\n",
    "    'bestSVC': best_svc_model\n",
    "}\n",
    "\n",
    "# Creating Stacking classifier\n",
    "_stack = StackingClassifier( estimators=list(models.items()), final_estimator=LogisticRegression())\n",
    "\n",
    "# Adding Votting\n",
    "_soft = VotingClassifier(estimators=list(models.items()), voting='soft')\n",
    "_hard = VotingClassifier(estimators=list(models.items()), voting='hard')\n",
    "\n",
    "# Adding Keys to Dict\n",
    "models['stacked'] = _stack\n",
    "models['soft_vote'] = _soft\n",
    "models['hard_vote'] = _hard"
   ]
  },
  {
   "cell_type": "code",
   "execution_count": 14,
   "metadata": {},
   "outputs": [],
   "source": [
    "# Importing cleaned frame\n",
    "df = cleaned_fr()\n",
    "\n",
    "# Separating\n",
    "X, y = df.iloc[:, :-1], df.iloc[:, -1]\n",
    "\n",
    "# Times to repeat Kfold instance (Aumented repetitions)\n",
    "rKF = RepeatedKFold(n_repeats=100, n_splits=3, random_state=23)"
   ]
  },
  {
   "cell_type": "code",
   "execution_count": 15,
   "metadata": {},
   "outputs": [],
   "source": [
    "# Transformer that scales the non-binary columns and does nothing to the binary columns\n",
    "preprocessor = ColumnTransformer(\n",
    "    transformers=[\n",
    "        ('num', RobustScaler(), non_binary_cols),\n",
    "        ('bin', FunctionTransformer(None, validate=False), binary_cols) # does nothing\n",
    "    ])\n",
    "\n",
    "_folds, _names, _accuracy, _precision, _recall, _f1, _auc, _set_type = [], [], [], [], [], [], [], []\n",
    "\n",
    "for MODEL_NAME, ML_MODEL in models.items():\n",
    "    for fold_id, (train_index, test_index) in enumerate(rKF.split(X)):\n",
    "        \n",
    "        # Train test split\n",
    "        X_train, y_train = X.iloc[train_index], y.iloc[train_index]\n",
    "        X_test, y_test = X.iloc[test_index], y.iloc[test_index] \n",
    "\n",
    "        # Pipeline for training\n",
    "        _local_pipe = Pipeline([\n",
    "                                ('preprocessor', preprocessor),\n",
    "                                (MODEL_NAME, ML_MODEL)\n",
    "                            ])\n",
    "\n",
    "        # Fitting\n",
    "        _local_pipe.fit(X_train, y_train)\n",
    "\n",
    "        # Test the results in training and test to check for overfitting\n",
    "        lab = {'train' : (X_train, y_train), 'test': (X_test, y_test)}\n",
    "\n",
    "        for lab_type, (X1,Y1) in lab.items():\n",
    "\n",
    "            # Keeping len\n",
    "            _folds.append(fold_id)\n",
    "            _names.append(MODEL_NAME)\n",
    "            _set_type.append( lab_type )\n",
    "\n",
    "            # Predictions\n",
    "            y_pred = _local_pipe.predict(X1)\n",
    "            \n",
    "            # Metrics\n",
    "            _accuracy.append( accuracy_score(Y1, y_pred) )\n",
    "            _precision.append( precision_score(Y1, y_pred) )\n",
    "            _recall.append( recall_score(Y1, y_pred) ) #<-- intended\n",
    "            _f1.append( f1_score(Y1, y_pred) )"
   ]
  },
  {
   "cell_type": "code",
   "execution_count": 16,
   "metadata": {},
   "outputs": [],
   "source": [
    "# Saving in DataFrame\n",
    "result2_df = pd.DataFrame( {'fold_id':_folds, 'model_name':_names, 'set': _set_type, 'accuracy':_accuracy, 'precision':_precision, 'recall':_recall, 'f1':_f1} )"
   ]
  },
  {
   "cell_type": "code",
   "execution_count": 17,
   "metadata": {},
   "outputs": [
    {
     "data": {
      "text/html": [
       "<div>\n",
       "<style scoped>\n",
       "    .dataframe tbody tr th:only-of-type {\n",
       "        vertical-align: middle;\n",
       "    }\n",
       "\n",
       "    .dataframe tbody tr th {\n",
       "        vertical-align: top;\n",
       "    }\n",
       "\n",
       "    .dataframe thead th {\n",
       "        text-align: right;\n",
       "    }\n",
       "</style>\n",
       "<table border=\"1\" class=\"dataframe\">\n",
       "  <thead>\n",
       "    <tr style=\"text-align: right;\">\n",
       "      <th>set</th>\n",
       "      <th>train</th>\n",
       "      <th>test</th>\n",
       "    </tr>\n",
       "    <tr>\n",
       "      <th>model_name</th>\n",
       "      <th></th>\n",
       "      <th></th>\n",
       "    </tr>\n",
       "  </thead>\n",
       "  <tbody>\n",
       "    <tr>\n",
       "      <th>bestSVC</th>\n",
       "      <td>0.922569</td>\n",
       "      <td>0.922063</td>\n",
       "    </tr>\n",
       "    <tr>\n",
       "      <th>hard_vote</th>\n",
       "      <td>0.922533</td>\n",
       "      <td>0.921773</td>\n",
       "    </tr>\n",
       "    <tr>\n",
       "      <th>soft_vote</th>\n",
       "      <td>0.922533</td>\n",
       "      <td>0.921548</td>\n",
       "    </tr>\n",
       "    <tr>\n",
       "      <th>bestMLP</th>\n",
       "      <td>0.922536</td>\n",
       "      <td>0.918864</td>\n",
       "    </tr>\n",
       "    <tr>\n",
       "      <th>GaussianNB</th>\n",
       "      <td>0.920406</td>\n",
       "      <td>0.918238</td>\n",
       "    </tr>\n",
       "    <tr>\n",
       "      <th>stacked</th>\n",
       "      <td>0.920647</td>\n",
       "      <td>0.918174</td>\n",
       "    </tr>\n",
       "  </tbody>\n",
       "</table>\n",
       "</div>"
      ],
      "text/plain": [
       "set            train      test\n",
       "model_name                    \n",
       "bestSVC     0.922569  0.922063\n",
       "hard_vote   0.922533  0.921773\n",
       "soft_vote   0.922533  0.921548\n",
       "bestMLP     0.922536  0.918864\n",
       "GaussianNB  0.920406  0.918238\n",
       "stacked     0.920647  0.918174"
      ]
     },
     "execution_count": 17,
     "metadata": {},
     "output_type": "execute_result"
    }
   ],
   "source": [
    "# Quick  look to the average performance\n",
    "result2_df.groupby(by=['model_name','set']).agg({'mean'}).loc[:,'recall'].unstack().droplevel(0,axis=1).filter(['train','test']).sort_values(by=['test'], ascending=False)"
   ]
  },
  {
   "cell_type": "code",
   "execution_count": 18,
   "metadata": {},
   "outputs": [
    {
     "data": {
      "text/html": [
       "<div>\n",
       "<style scoped>\n",
       "    .dataframe tbody tr th:only-of-type {\n",
       "        vertical-align: middle;\n",
       "    }\n",
       "\n",
       "    .dataframe tbody tr th {\n",
       "        vertical-align: top;\n",
       "    }\n",
       "\n",
       "    .dataframe thead th {\n",
       "        text-align: right;\n",
       "    }\n",
       "</style>\n",
       "<table border=\"1\" class=\"dataframe\">\n",
       "  <thead>\n",
       "    <tr style=\"text-align: right;\">\n",
       "      <th>set</th>\n",
       "      <th>train</th>\n",
       "      <th>test</th>\n",
       "    </tr>\n",
       "    <tr>\n",
       "      <th>model_name</th>\n",
       "      <th></th>\n",
       "      <th></th>\n",
       "    </tr>\n",
       "  </thead>\n",
       "  <tbody>\n",
       "    <tr>\n",
       "      <th>bestSVC</th>\n",
       "      <td>0.015586</td>\n",
       "      <td>0.031295</td>\n",
       "    </tr>\n",
       "    <tr>\n",
       "      <th>hard_vote</th>\n",
       "      <td>0.015519</td>\n",
       "      <td>0.031742</td>\n",
       "    </tr>\n",
       "    <tr>\n",
       "      <th>soft_vote</th>\n",
       "      <td>0.015519</td>\n",
       "      <td>0.032139</td>\n",
       "    </tr>\n",
       "    <tr>\n",
       "      <th>bestMLP</th>\n",
       "      <td>0.015679</td>\n",
       "      <td>0.032955</td>\n",
       "    </tr>\n",
       "    <tr>\n",
       "      <th>stacked</th>\n",
       "      <td>0.014867</td>\n",
       "      <td>0.034805</td>\n",
       "    </tr>\n",
       "    <tr>\n",
       "      <th>GaussianNB</th>\n",
       "      <td>0.014061</td>\n",
       "      <td>0.035787</td>\n",
       "    </tr>\n",
       "  </tbody>\n",
       "</table>\n",
       "</div>"
      ],
      "text/plain": [
       "set            train      test\n",
       "model_name                    \n",
       "bestSVC     0.015586  0.031295\n",
       "hard_vote   0.015519  0.031742\n",
       "soft_vote   0.015519  0.032139\n",
       "bestMLP     0.015679  0.032955\n",
       "stacked     0.014867  0.034805\n",
       "GaussianNB  0.014061  0.035787"
      ]
     },
     "execution_count": 18,
     "metadata": {},
     "output_type": "execute_result"
    }
   ],
   "source": [
    "# Quick  look to the performance std\n",
    "result2_df.groupby(by=['model_name','set']).agg({'std'}).loc[:,'recall'].unstack().droplevel(0,axis=1).filter(['train','test']).sort_values(by=['test'])"
   ]
  },
  {
   "cell_type": "code",
   "execution_count": 19,
   "metadata": {},
   "outputs": [
    {
     "data": {
      "image/png": "[encoded data removed]",
      "text/plain": [
       "<Figure size 1200x400 with 1 Axes>"
      ]
     },
     "metadata": {},
     "output_type": "display_data"
    }
   ],
   "source": [
    "fig, ax = plt.subplots(figsize=(12,4))\n",
    "\n",
    "sns.barplot(\n",
    "    data = result2_df.filter(['fold_id', 'model_name', 'set'] + [\"recall\"]),\n",
    "    x=\"model_name\", y=\"recall\", hue=\"set\",\n",
    "    palette=\"Reds\", alpha=.75, ax=ax, errorbar='sd'\n",
    ")\n",
    "\n",
    "sns.despine(top=True, right=True)\n",
    "\n",
    "# Set y-axis limits\n",
    "ax.set_ylim(0.7, 1)\n",
    "\n",
    "# Move legend outside of the plot\n",
    "ax.legend(loc='upper left', bbox_to_anchor=(1, 1))\n",
    "\n",
    "plt.tight_layout()  # Adjust layout so everything fits nicely\n",
    "plt.savefig('experiment2_recall.png', dpi=200 )\n",
    "plt.show()"
   ]
  },
  {
   "cell_type": "code",
   "execution_count": 26,
   "metadata": {},
   "outputs": [],
   "source": [
    "# Save the results\n",
    "result2_df.to_csv('Data/SystolicResultsFinalExperiment.csv')"
   ]
  },
  {
   "cell_type": "markdown",
   "metadata": {},
   "source": [
    "Performance between the models named _bestMLP, GaussianNB, and stacked_ are quite similar. Therefore, since the model will be deployed in a web front-end chossing a simpler model is preferred, and in terms of recall we're not risking a performance detriment, therefore, let's keep the  GaussianNB as our selected model."
   ]
  },
  {
   "cell_type": "markdown",
   "metadata": {},
   "source": [
    "# Saving Selected Model"
   ]
  },
  {
   "cell_type": "code",
   "execution_count": 23,
   "metadata": {},
   "outputs": [],
   "source": [
    "from modeling import train_and_save_model"
   ]
  },
  {
   "cell_type": "code",
   "execution_count": 25,
   "metadata": {},
   "outputs": [],
   "source": [
    "train_and_save_model('ModelSystolic_SVC', best_svc_model)"
   ]
  },
  {
   "cell_type": "code",
   "execution_count": null,
   "metadata": {},
   "outputs": [],
   "source": []
  }
 ],
 "metadata": {
  "kernelspec": {
   "display_name": "prenv",
   "language": "python",
   "name": "prenv"
  },
  "language_info": {
   "codemirror_mode": {
    "name": "ipython",
    "version": 3
   },
   "file_extension": ".py",
   "mimetype": "text/x-python",
   "name": "python",
   "nbconvert_exporter": "python",
   "pygments_lexer": "ipython3",
   "version": "3.11.2"
  },
  "orig_nbformat": 4
 },
 "nbformat": 4,
 "nbformat_minor": 2
}
