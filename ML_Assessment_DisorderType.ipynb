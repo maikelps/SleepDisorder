{
 "cells": [
  {
   "cell_type": "code",
   "execution_count": 1,
   "metadata": {},
   "outputs": [],
   "source": [
    "import pandas as pd\n",
    "import numpy as np\n",
    "from modeling import cleaned_fr\n",
    "import seaborn as sns\n",
    "import matplotlib.pyplot as plt\n",
    "import warnings\n",
    "warnings.filterwarnings(\"ignore\")"
   ]
  },
  {
   "cell_type": "markdown",
   "metadata": {},
   "source": [
    "ML Lib:"
   ]
  },
  {
   "cell_type": "code",
   "execution_count": 2,
   "metadata": {},
   "outputs": [],
   "source": [
    "from sklearn.model_selection import RepeatedKFold\n",
    "from sklearn.preprocessing import MinMaxScaler, RobustScaler, FunctionTransformer\n",
    "from sklearn.compose import ColumnTransformer\n",
    "from sklearn.pipeline import Pipeline\n",
    "\n",
    "from sklearn.naive_bayes import BernoulliNB, GaussianNB\n",
    "from sklearn.tree import DecisionTreeClassifier\n",
    "from sklearn.ensemble import ExtraTreesClassifier\n",
    "from sklearn.neighbors import KNeighborsClassifier\n",
    "from sklearn.svm import SVC\n",
    "from sklearn.linear_model import LogisticRegression\n",
    "from sklearn.neural_network import MLPClassifier\n",
    "from xgboost import XGBClassifier\n",
    "\n",
    "from sklearn.metrics import accuracy_score, precision_score, recall_score, f1_score, roc_auc_score"
   ]
  },
  {
   "cell_type": "markdown",
   "metadata": {},
   "source": [
    "# _Predicting which Disorder Type_"
   ]
  },
  {
   "cell_type": "markdown",
   "metadata": {},
   "source": [
    "# Experiment 1\n",
    "\n",
    "Fitting some basic models and assessing their performance without any parameter fine-tunning."
   ]
  },
  {
   "cell_type": "code",
   "execution_count": 3,
   "metadata": {},
   "outputs": [],
   "source": [
    "# Models in experiment 1\n",
    "models = {\n",
    "            'BernoulliNB' : BernoulliNB(),\n",
    "            'GaussianNB' : GaussianNB(),\n",
    "            'DTr' : DecisionTreeClassifier(),\n",
    "            'ExTrs': ExtraTreesClassifier(),\n",
    "            'KNeigh' : KNeighborsClassifier(),\n",
    "            'svc': SVC(probability=True),\n",
    "            'xgb' : XGBClassifier(),\n",
    "            'logistic' : LogisticRegression(),\n",
    "            'MLP' : MLPClassifier()\n",
    "        }"
   ]
  },
  {
   "cell_type": "code",
   "execution_count": 18,
   "metadata": {},
   "outputs": [],
   "source": [
    "# Importing cleaned frame\n",
    "df = cleaned_fr(avoid_systolic=True, insomnia_cat=2)\n",
    "\n",
    "# Fit to sleep_apnea=0 vs insomnia=1\n",
    "df = (df\n",
    "        .assign(sleep_issue = df.sleep_issue - 1)\n",
    "        .query(\"sleep_issue >= 0\")\n",
    "        .astype({'sleep_issue' :'uint8'})\n",
    "        )"
   ]
  },
  {
   "cell_type": "code",
   "execution_count": 20,
   "metadata": {},
   "outputs": [],
   "source": [
    "# Separating\n",
    "X, y = df.iloc[:, :-1], df.iloc[:, -1]\n",
    "\n",
    "# Select binary columns to avoid scaling below\n",
    "binary_cols = X.select_dtypes('uint8').columns\n",
    "\n",
    "# Remaining columns\n",
    "non_binary_cols = [col for col in X.columns if col not in binary_cols]\n",
    "\n",
    "# Times to repeat Kfold instance\n",
    "rKF = RepeatedKFold(n_repeats=34, n_splits=3, random_state=23)"
   ]
  },
  {
   "cell_type": "code",
   "execution_count": 21,
   "metadata": {},
   "outputs": [],
   "source": [
    "# Transformer that scales the non-binary columns and does nothing to the binary columns\n",
    "preprocessor = ColumnTransformer(\n",
    "    transformers=[\n",
    "        ('num', RobustScaler(), non_binary_cols),\n",
    "        ('bin', FunctionTransformer(None, validate=False), binary_cols) # does nothing\n",
    "    ])\n",
    "\n",
    "_folds, _names, _accuracy, _precision, _recall, _f1, _auc, _set_type = [], [], [], [], [], [], [], []\n",
    "\n",
    "for MODEL_NAME, ML_MODEL in models.items():\n",
    "    for fold_id, (train_index, test_index) in enumerate(rKF.split(X)):\n",
    "        \n",
    "        # Train test split\n",
    "        X_train, y_train = X.iloc[train_index], y.iloc[train_index]\n",
    "        X_test, y_test = X.iloc[test_index], y.iloc[test_index] \n",
    "\n",
    "        # Pipeline for training\n",
    "        _local_pipe = Pipeline([\n",
    "                                ('preprocessor', preprocessor),\n",
    "                                (MODEL_NAME, ML_MODEL)\n",
    "                            ])\n",
    "\n",
    "        # Fitting\n",
    "        _local_pipe.fit(X_train, y_train)\n",
    "\n",
    "        # Test the results in training and test to check for overfitting\n",
    "        lab = {'train' : (X_train, y_train), 'test': (X_test, y_test)}\n",
    "\n",
    "        for lab_type, (X1,Y1) in lab.items():\n",
    "\n",
    "            # Keeping len\n",
    "            _folds.append(fold_id)\n",
    "            _names.append(MODEL_NAME)\n",
    "            _set_type.append( lab_type )\n",
    "\n",
    "            # Predictions\n",
    "            y_pred = _local_pipe.predict(X1)\n",
    "\n",
    "            # Proba for AUC\n",
    "            y_proba = _local_pipe.predict_proba(X1)[:, 1]  # Probabilities for the positive class\n",
    "            _auc.append( roc_auc_score(Y1, y_proba) )\n",
    "            \n",
    "            # Metrics\n",
    "            _accuracy.append( accuracy_score(Y1, y_pred) )\n",
    "            _precision.append( precision_score(Y1, y_pred) )\n",
    "            _recall.append( recall_score(Y1, y_pred) ) #<-- intended\n",
    "            _f1.append( f1_score(Y1, y_pred) )"
   ]
  },
  {
   "cell_type": "code",
   "execution_count": 22,
   "metadata": {},
   "outputs": [],
   "source": [
    "# Saving in DataFrame\n",
    "result_df = pd.DataFrame( {'fold_id':_folds, 'model_name':_names, 'set': _set_type, 'accuracy':_accuracy, 'precision':_precision, 'recall':_recall, 'f1':_f1, 'auc':_auc} )"
   ]
  },
  {
   "cell_type": "code",
   "execution_count": 28,
   "metadata": {},
   "outputs": [
    {
     "data": {
      "text/html": [
       "<div>\n",
       "<style scoped>\n",
       "    .dataframe tbody tr th:only-of-type {\n",
       "        vertical-align: middle;\n",
       "    }\n",
       "\n",
       "    .dataframe tbody tr th {\n",
       "        vertical-align: top;\n",
       "    }\n",
       "\n",
       "    .dataframe thead th {\n",
       "        text-align: right;\n",
       "    }\n",
       "</style>\n",
       "<table border=\"1\" class=\"dataframe\">\n",
       "  <thead>\n",
       "    <tr style=\"text-align: right;\">\n",
       "      <th>set</th>\n",
       "      <th>train</th>\n",
       "      <th>test</th>\n",
       "    </tr>\n",
       "    <tr>\n",
       "      <th>model_name</th>\n",
       "      <th></th>\n",
       "      <th></th>\n",
       "    </tr>\n",
       "  </thead>\n",
       "  <tbody>\n",
       "    <tr>\n",
       "      <th>MLP</th>\n",
       "      <td>0.945926</td>\n",
       "      <td>0.892985</td>\n",
       "    </tr>\n",
       "    <tr>\n",
       "      <th>logistic</th>\n",
       "      <td>0.911574</td>\n",
       "      <td>0.883443</td>\n",
       "    </tr>\n",
       "    <tr>\n",
       "      <th>xgb</th>\n",
       "      <td>0.968223</td>\n",
       "      <td>0.870616</td>\n",
       "    </tr>\n",
       "    <tr>\n",
       "      <th>GaussianNB</th>\n",
       "      <td>0.896081</td>\n",
       "      <td>0.867300</td>\n",
       "    </tr>\n",
       "    <tr>\n",
       "      <th>ExTrs</th>\n",
       "      <td>0.968697</td>\n",
       "      <td>0.864752</td>\n",
       "    </tr>\n",
       "    <tr>\n",
       "      <th>DTr</th>\n",
       "      <td>0.968697</td>\n",
       "      <td>0.862072</td>\n",
       "    </tr>\n",
       "    <tr>\n",
       "      <th>BernoulliNB</th>\n",
       "      <td>0.878093</td>\n",
       "      <td>0.860749</td>\n",
       "    </tr>\n",
       "    <tr>\n",
       "      <th>svc</th>\n",
       "      <td>0.933965</td>\n",
       "      <td>0.860187</td>\n",
       "    </tr>\n",
       "    <tr>\n",
       "      <th>KNeigh</th>\n",
       "      <td>0.910636</td>\n",
       "      <td>0.853366</td>\n",
       "    </tr>\n",
       "  </tbody>\n",
       "</table>\n",
       "</div>"
      ],
      "text/plain": [
       "set             train      test\n",
       "model_name                     \n",
       "MLP          0.945926  0.892985\n",
       "logistic     0.911574  0.883443\n",
       "xgb          0.968223  0.870616\n",
       "GaussianNB   0.896081  0.867300\n",
       "ExTrs        0.968697  0.864752\n",
       "DTr          0.968697  0.862072\n",
       "BernoulliNB  0.878093  0.860749\n",
       "svc          0.933965  0.860187\n",
       "KNeigh       0.910636  0.853366"
      ]
     },
     "execution_count": 28,
     "metadata": {},
     "output_type": "execute_result"
    }
   ],
   "source": [
    "# Quick  look to the average performance\n",
    "result_df.groupby(by=['model_name','set']).agg({'mean'}).loc[:,'accuracy'].unstack().droplevel(0,axis=1).filter(['train','test']).sort_values(by=['test'], ascending=False)"
   ]
  },
  {
   "cell_type": "code",
   "execution_count": 29,
   "metadata": {},
   "outputs": [
    {
     "data": {
      "text/html": [
       "<div>\n",
       "<style scoped>\n",
       "    .dataframe tbody tr th:only-of-type {\n",
       "        vertical-align: middle;\n",
       "    }\n",
       "\n",
       "    .dataframe tbody tr th {\n",
       "        vertical-align: top;\n",
       "    }\n",
       "\n",
       "    .dataframe thead th {\n",
       "        text-align: right;\n",
       "    }\n",
       "</style>\n",
       "<table border=\"1\" class=\"dataframe\">\n",
       "  <thead>\n",
       "    <tr style=\"text-align: right;\">\n",
       "      <th>set</th>\n",
       "      <th>train</th>\n",
       "      <th>test</th>\n",
       "    </tr>\n",
       "    <tr>\n",
       "      <th>model_name</th>\n",
       "      <th></th>\n",
       "      <th></th>\n",
       "    </tr>\n",
       "  </thead>\n",
       "  <tbody>\n",
       "    <tr>\n",
       "      <th>logistic</th>\n",
       "      <td>0.018482</td>\n",
       "      <td>0.037352</td>\n",
       "    </tr>\n",
       "    <tr>\n",
       "      <th>MLP</th>\n",
       "      <td>0.016519</td>\n",
       "      <td>0.040159</td>\n",
       "    </tr>\n",
       "    <tr>\n",
       "      <th>ExTrs</th>\n",
       "      <td>0.011554</td>\n",
       "      <td>0.043046</td>\n",
       "    </tr>\n",
       "    <tr>\n",
       "      <th>KNeigh</th>\n",
       "      <td>0.021330</td>\n",
       "      <td>0.043989</td>\n",
       "    </tr>\n",
       "    <tr>\n",
       "      <th>BernoulliNB</th>\n",
       "      <td>0.022443</td>\n",
       "      <td>0.045431</td>\n",
       "    </tr>\n",
       "    <tr>\n",
       "      <th>svc</th>\n",
       "      <td>0.018185</td>\n",
       "      <td>0.046015</td>\n",
       "    </tr>\n",
       "    <tr>\n",
       "      <th>DTr</th>\n",
       "      <td>0.011554</td>\n",
       "      <td>0.046787</td>\n",
       "    </tr>\n",
       "    <tr>\n",
       "      <th>xgb</th>\n",
       "      <td>0.011408</td>\n",
       "      <td>0.047619</td>\n",
       "    </tr>\n",
       "    <tr>\n",
       "      <th>GaussianNB</th>\n",
       "      <td>0.067631</td>\n",
       "      <td>0.076640</td>\n",
       "    </tr>\n",
       "  </tbody>\n",
       "</table>\n",
       "</div>"
      ],
      "text/plain": [
       "set             train      test\n",
       "model_name                     \n",
       "logistic     0.018482  0.037352\n",
       "MLP          0.016519  0.040159\n",
       "ExTrs        0.011554  0.043046\n",
       "KNeigh       0.021330  0.043989\n",
       "BernoulliNB  0.022443  0.045431\n",
       "svc          0.018185  0.046015\n",
       "DTr          0.011554  0.046787\n",
       "xgb          0.011408  0.047619\n",
       "GaussianNB   0.067631  0.076640"
      ]
     },
     "execution_count": 29,
     "metadata": {},
     "output_type": "execute_result"
    }
   ],
   "source": [
    "# Quick  look to the average performance\n",
    "result_df.groupby(by=['model_name','set']).agg({'std'}).loc[:,'accuracy'].unstack().droplevel(0,axis=1).filter(['train','test']).sort_values(by=['test'])"
   ]
  },
  {
   "cell_type": "code",
   "execution_count": 32,
   "metadata": {},
   "outputs": [
    {
     "data": {
      "image/png": "[encoded data removed]",
      "text/plain": [
       "<Figure size 1200x400 with 1 Axes>"
      ]
     },
     "metadata": {},
     "output_type": "display_data"
    }
   ],
   "source": [
    "fig, ax = plt.subplots(figsize=(12,4))\n",
    "\n",
    "sns.barplot(\n",
    "    data = result_df.filter(['fold_id', 'model_name', 'set'] + [\"accuracy\"]),\n",
    "    x=\"model_name\", y=\"accuracy\", hue=\"set\",\n",
    "    palette=\"Reds\", alpha=.75, ax=ax, errorbar='sd'\n",
    ")\n",
    "\n",
    "sns.despine(top=True, right=True)\n",
    "\n",
    "# Set y-axis limits\n",
    "ax.set_ylim(0.7, 1)\n",
    "\n",
    "# Move legend outside of the plot\n",
    "ax.legend(loc='upper left', bbox_to_anchor=(1, 1))\n",
    "\n",
    "plt.tight_layout()  # Adjust layout so everything fits nicely\n",
    "plt.savefig('experiment1_recall_NoSys.png', dpi=200 )\n",
    "plt.show()"
   ]
  },
  {
   "cell_type": "code",
   "execution_count": 34,
   "metadata": {},
   "outputs": [
    {
     "data": {
      "image/png": "[encoded data removed]",
      "text/plain": [
       "<Figure size 1200x400 with 1 Axes>"
      ]
     },
     "metadata": {},
     "output_type": "display_data"
    },
    {
     "data": {
      "image/png": "[encoded data removed]",
      "text/plain": [
       "<Figure size 1200x400 with 1 Axes>"
      ]
     },
     "metadata": {},
     "output_type": "display_data"
    },
    {
     "data": {
      "image/png": "[encoded data removed]",
      "text/plain": [
       "<Figure size 1200x400 with 1 Axes>"
      ]
     },
     "metadata": {},
     "output_type": "display_data"
    },
    {
     "data": {
      "image/png": "[encoded data removed]",
      "text/plain": [
       "<Figure size 1200x400 with 1 Axes>"
      ]
     },
     "metadata": {},
     "output_type": "display_data"
    },
    {
     "data": {
      "image/png": "[encoded data removed]",
      "text/plain": [
       "<Figure size 1200x400 with 1 Axes>"
      ]
     },
     "metadata": {},
     "output_type": "display_data"
    }
   ],
   "source": [
    "for metric in result_df.columns[3:]:\n",
    "\n",
    "    fig, ax = plt.subplots(figsize=(12,4))\n",
    "\n",
    "    sns.barplot(\n",
    "        data = result_df.filter(['fold_id', 'model_name', 'set'] + [metric]),\n",
    "        x=\"model_name\", y=metric, hue=\"set\",\n",
    "        palette=\"Reds\", alpha=.75, ax=ax, errorbar='sd'\n",
    "    )\n",
    "\n",
    "    sns.despine(top=True, right=True)\n",
    "\n",
    "    # Set y-axis limits\n",
    "    ax.set_ylim(0.7, 1)\n",
    "\n",
    "    # Move legend outside of the plot\n",
    "    ax.legend(loc='upper left', bbox_to_anchor=(1, 1))\n",
    "\n",
    "    plt.tight_layout()  # Adjust layout so everything fits nicely\n",
    "    plt.show()"
   ]
  },
  {
   "cell_type": "markdown",
   "metadata": {},
   "source": [
    "For this approach is noticeable overfitting in all the metrics. Nevertheless, MLP and logistic regression seem the candidates to explore further"
   ]
  },
  {
   "cell_type": "code",
   "execution_count": 35,
   "metadata": {},
   "outputs": [],
   "source": [
    "# Saving Result\n",
    "result_df.to_csv('Data/SleepIssueTypeExperiment1.csv')"
   ]
  },
  {
   "cell_type": "markdown",
   "metadata": {},
   "source": [
    "# MLP Parameter tunning"
   ]
  },
  {
   "cell_type": "code",
   "execution_count": 37,
   "metadata": {},
   "outputs": [],
   "source": [
    "from sklearn.model_selection import GridSearchCV"
   ]
  },
  {
   "cell_type": "code",
   "execution_count": 40,
   "metadata": {},
   "outputs": [
    {
     "name": "stdout",
     "output_type": "stream",
     "text": [
      "Fitting 5 folds for each of 90 candidates, totalling 450 fits\n",
      "Best parameters: {'MLP__activation': 'logistic', 'MLP__early_stopping': True, 'MLP__hidden_layer_sizes': (200,), 'MLP__max_iter': 200, 'MLP__solver': 'adam', 'MLP__validation_fraction': 0.25}\n",
      "Best cross-validation score: 0.8839\n"
     ]
    }
   ],
   "source": [
    "# Model to tune\n",
    "model = MLPClassifier()\n",
    "\n",
    "# Recalling the preprocessor\n",
    "preprocessor = ColumnTransformer(\n",
    "    transformers=[\n",
    "        ('num', RobustScaler(), non_binary_cols),\n",
    "        ('bin', FunctionTransformer(None, validate=False), binary_cols) # does nothing\n",
    "    ])\n",
    "\n",
    "_search_pipe = Pipeline([\n",
    "                        ('preprocessor', preprocessor),\n",
    "                        ('MLP', model)\n",
    "                    ])\n",
    "\n",
    "# Parameters for grid search\n",
    "param_grid = {\n",
    "    'MLP__hidden_layer_sizes': [(200,), (200,100),(300,200,100), (200,100,50), (300,200,100)],\n",
    "    'MLP__activation': ['logistic','tanh','relu'],\n",
    "    'MLP__solver': ['lbfgs', 'adam'],\n",
    "    'MLP__max_iter': [200,300,400],\n",
    "    'MLP__early_stopping': [True], # Adding these last two parameters to make sure the loop doesn't get stuck unwantedly and shorten execution time\n",
    "    'MLP__validation_fraction': [.25]\n",
    "}\n",
    "\n",
    "grid_search = GridSearchCV(_search_pipe, param_grid, cv=5, verbose=1, scoring='accuracy')\n",
    "grid_search.fit(X, y)\n",
    "\n",
    "print(f\"Best parameters: {grid_search.best_params_}\")\n",
    "print(f\"Best cross-validation score: {grid_search.best_score_:.4f}\")"
   ]
  },
  {
   "cell_type": "code",
   "execution_count": 43,
   "metadata": {},
   "outputs": [
    {
     "name": "stdout",
     "output_type": "stream",
     "text": [
      "Selected Parameters: {'activation': 'logistic', 'hidden_layer_sizes': (200,), 'max_iter': 200, 'solver': 'adam'}\n"
     ]
    }
   ],
   "source": [
    "# Getting the best parameters\n",
    "mlp_parameters = {key[5:] : val for key, val in grid_search.best_params_.items()}\n",
    "\n",
    "# Dropping unwanted parameters\n",
    "mlp_parameters.pop('early_stopping')\n",
    "mlp_parameters.pop('validation_fraction')\n",
    "\n",
    "print(\"Selected Parameters:\", mlp_parameters)\n",
    "\n",
    "# Getting the best mlp parameters from the dictionary above\n",
    "best_mlp_model = MLPClassifier( **mlp_parameters )"
   ]
  },
  {
   "cell_type": "markdown",
   "metadata": {},
   "source": [
    "# Logistic Regression Parameter tunning"
   ]
  },
  {
   "cell_type": "code",
   "execution_count": 45,
   "metadata": {},
   "outputs": [
    {
     "name": "stdout",
     "output_type": "stream",
     "text": [
      "Fitting 5 folds for each of 40 candidates, totalling 200 fits\n",
      "Best parameters: {'Logistic__max_iter': 100, 'Logistic__penalty': None, 'Logistic__solver': 'lbfgs'}\n",
      "Best cross-validation Recall: 0.8774\n"
     ]
    }
   ],
   "source": [
    "# Model to tune\n",
    "model = LogisticRegression()\n",
    "\n",
    "# Recalling the preprocessor\n",
    "preprocessor = ColumnTransformer(\n",
    "    transformers=[\n",
    "        ('num', RobustScaler(), non_binary_cols),\n",
    "        ('bin', FunctionTransformer(None, validate=False), binary_cols) # does nothing\n",
    "    ])\n",
    "\n",
    "_search_pipe = Pipeline([\n",
    "                        ('preprocessor', preprocessor),\n",
    "                        ('Logistic', model)\n",
    "                    ])\n",
    "\n",
    "# Parameters for grid search\n",
    "param_grid = {\n",
    "    'Logistic__penalty' : ['l1', 'l2', 'elasticnet', None],\n",
    "    'Logistic__solver' : ['lbfgs', 'liblinear'],\n",
    "    'Logistic__max_iter' : [100,200,300,400,500],\n",
    "}\n",
    "\n",
    "grid_search = GridSearchCV(_search_pipe, param_grid, cv=5, verbose=1, scoring='accuracy')\n",
    "grid_search.fit(X, y)\n",
    "\n",
    "print(f\"Best parameters: {grid_search.best_params_}\")\n",
    "print(f\"Best cross-validation Recall: {grid_search.best_score_:.4f}\")"
   ]
  },
  {
   "cell_type": "markdown",
   "metadata": {},
   "source": [
    "Let's keep the default parameters since there's no improvement in recall."
   ]
  },
  {
   "cell_type": "code",
   "execution_count": 48,
   "metadata": {},
   "outputs": [],
   "source": [
    "best_logistic_model = LogisticRegression( **{key[10:] : val for key, val in grid_search.best_params_.items()} )"
   ]
  },
  {
   "cell_type": "code",
   "execution_count": 8,
   "metadata": {},
   "outputs": [],
   "source": [
    "best_logistic_model = LogisticRegression( **{'max_iter': 100, 'penalty': None, 'solver': 'lbfgs'} )"
   ]
  },
  {
   "cell_type": "markdown",
   "metadata": {},
   "source": [
    "# Final Experiment\n",
    "\n",
    "Besides taking the best 3 classifiers. Let's also merge them into voting and stacking methods to try to improve recall"
   ]
  },
  {
   "cell_type": "code",
   "execution_count": 49,
   "metadata": {},
   "outputs": [],
   "source": [
    "from sklearn.ensemble import VotingClassifier\n",
    "from sklearn.ensemble import StackingClassifier"
   ]
  },
  {
   "cell_type": "code",
   "execution_count": 50,
   "metadata": {},
   "outputs": [],
   "source": [
    "# Models in Final Experiment\n",
    "models = {\n",
    "    'best_logistic' : best_logistic_model,\n",
    "    'bestMLP' : best_mlp_model\n",
    "}\n",
    "\n",
    "# Creating Stacking classifier\n",
    "_stack = StackingClassifier( estimators=list(models.items()), final_estimator=LogisticRegression())\n",
    "\n",
    "# Adding Votting\n",
    "_soft = VotingClassifier(estimators=list(models.items()), voting='soft')\n",
    "_hard = VotingClassifier(estimators=list(models.items()), voting='hard')\n",
    "\n",
    "# Adding Keys to Dict\n",
    "models['stacked'] = _stack\n",
    "models['soft_vote'] = _soft\n",
    "models['hard_vote'] = _hard"
   ]
  },
  {
   "cell_type": "code",
   "execution_count": 51,
   "metadata": {},
   "outputs": [],
   "source": [
    "# Importing cleaned frame\n",
    "df = cleaned_fr(avoid_systolic=True, insomnia_cat=2)\n",
    "\n",
    "# Fit to sleep_apnea=0 vs insomnia=1\n",
    "df = (df\n",
    "        .assign(sleep_issue = df.sleep_issue - 1)\n",
    "        .query(\"sleep_issue >= 0\")\n",
    "        .astype({'sleep_issue' :'uint8'})\n",
    "        )\n",
    "\n",
    "# Separating\n",
    "X, y = df.iloc[:, :-1], df.iloc[:, -1]\n",
    "\n",
    "# Times to repeat Kfold instance (Aumented repetitions)\n",
    "rKF = RepeatedKFold(n_repeats=100, n_splits=3, random_state=23)"
   ]
  },
  {
   "cell_type": "code",
   "execution_count": 52,
   "metadata": {},
   "outputs": [],
   "source": [
    "# Transformer that scales the non-binary columns and does nothing to the binary columns\n",
    "preprocessor = ColumnTransformer(\n",
    "    transformers=[\n",
    "        ('num', RobustScaler(), non_binary_cols),\n",
    "        ('bin', FunctionTransformer(None, validate=False), binary_cols) # does nothing\n",
    "    ])\n",
    "\n",
    "_folds, _names, _accuracy, _precision, _recall, _f1, _auc, _set_type = [], [], [], [], [], [], [], []\n",
    "\n",
    "for MODEL_NAME, ML_MODEL in models.items():\n",
    "    for fold_id, (train_index, test_index) in enumerate(rKF.split(X)):\n",
    "        \n",
    "        # Train test split\n",
    "        X_train, y_train = X.iloc[train_index], y.iloc[train_index]\n",
    "        X_test, y_test = X.iloc[test_index], y.iloc[test_index] \n",
    "\n",
    "        # Pipeline for training\n",
    "        _local_pipe = Pipeline([\n",
    "                                ('preprocessor', preprocessor),\n",
    "                                (MODEL_NAME, ML_MODEL)\n",
    "                            ])\n",
    "\n",
    "        # Fitting\n",
    "        _local_pipe.fit(X_train, y_train)\n",
    "\n",
    "        # Test the results in training and test to check for overfitting\n",
    "        lab = {'train' : (X_train, y_train), 'test': (X_test, y_test)}\n",
    "\n",
    "        for lab_type, (X1,Y1) in lab.items():\n",
    "\n",
    "            # Keeping len\n",
    "            _folds.append(fold_id)\n",
    "            _names.append(MODEL_NAME)\n",
    "            _set_type.append( lab_type )\n",
    "\n",
    "            # Predictions\n",
    "            y_pred = _local_pipe.predict(X1)\n",
    "            \n",
    "            # Metrics\n",
    "            _accuracy.append( accuracy_score(Y1, y_pred) )\n",
    "            _precision.append( precision_score(Y1, y_pred) )\n",
    "            _recall.append( recall_score(Y1, y_pred) ) #<-- intended\n",
    "            _f1.append( f1_score(Y1, y_pred) )"
   ]
  },
  {
   "cell_type": "code",
   "execution_count": 53,
   "metadata": {},
   "outputs": [],
   "source": [
    "# Saving in DataFrame\n",
    "result2_df = pd.DataFrame( {'fold_id':_folds, 'model_name':_names, 'set': _set_type, 'accuracy':_accuracy, 'precision':_precision, 'recall':_recall, 'f1':_f1} )"
   ]
  },
  {
   "cell_type": "code",
   "execution_count": 54,
   "metadata": {},
   "outputs": [
    {
     "data": {
      "text/html": [
       "<div>\n",
       "<style scoped>\n",
       "    .dataframe tbody tr th:only-of-type {\n",
       "        vertical-align: middle;\n",
       "    }\n",
       "\n",
       "    .dataframe tbody tr th {\n",
       "        vertical-align: top;\n",
       "    }\n",
       "\n",
       "    .dataframe thead th {\n",
       "        text-align: right;\n",
       "    }\n",
       "</style>\n",
       "<table border=\"1\" class=\"dataframe\">\n",
       "  <thead>\n",
       "    <tr style=\"text-align: right;\">\n",
       "      <th>set</th>\n",
       "      <th>train</th>\n",
       "      <th>test</th>\n",
       "    </tr>\n",
       "    <tr>\n",
       "      <th>model_name</th>\n",
       "      <th></th>\n",
       "      <th></th>\n",
       "    </tr>\n",
       "  </thead>\n",
       "  <tbody>\n",
       "    <tr>\n",
       "      <th>best_logistic</th>\n",
       "      <td>0.938096</td>\n",
       "      <td>0.903610</td>\n",
       "    </tr>\n",
       "    <tr>\n",
       "      <th>soft_vote</th>\n",
       "      <td>0.926900</td>\n",
       "      <td>0.894639</td>\n",
       "    </tr>\n",
       "    <tr>\n",
       "      <th>stacked</th>\n",
       "      <td>0.931741</td>\n",
       "      <td>0.893341</td>\n",
       "    </tr>\n",
       "    <tr>\n",
       "      <th>hard_vote</th>\n",
       "      <td>0.925742</td>\n",
       "      <td>0.891921</td>\n",
       "    </tr>\n",
       "    <tr>\n",
       "      <th>bestMLP</th>\n",
       "      <td>0.902386</td>\n",
       "      <td>0.881839</td>\n",
       "    </tr>\n",
       "  </tbody>\n",
       "</table>\n",
       "</div>"
      ],
      "text/plain": [
       "set               train      test\n",
       "model_name                       \n",
       "best_logistic  0.938096  0.903610\n",
       "soft_vote      0.926900  0.894639\n",
       "stacked        0.931741  0.893341\n",
       "hard_vote      0.925742  0.891921\n",
       "bestMLP        0.902386  0.881839"
      ]
     },
     "execution_count": 54,
     "metadata": {},
     "output_type": "execute_result"
    }
   ],
   "source": [
    "# Quick  look to the average performance\n",
    "result2_df.groupby(by=['model_name','set']).agg({'mean'}).loc[:,'accuracy'].unstack().droplevel(0,axis=1).filter(['train','test']).sort_values(by=['test'], ascending=False)"
   ]
  },
  {
   "cell_type": "code",
   "execution_count": 55,
   "metadata": {},
   "outputs": [
    {
     "data": {
      "text/html": [
       "<div>\n",
       "<style scoped>\n",
       "    .dataframe tbody tr th:only-of-type {\n",
       "        vertical-align: middle;\n",
       "    }\n",
       "\n",
       "    .dataframe tbody tr th {\n",
       "        vertical-align: top;\n",
       "    }\n",
       "\n",
       "    .dataframe thead th {\n",
       "        text-align: right;\n",
       "    }\n",
       "</style>\n",
       "<table border=\"1\" class=\"dataframe\">\n",
       "  <thead>\n",
       "    <tr style=\"text-align: right;\">\n",
       "      <th>set</th>\n",
       "      <th>train</th>\n",
       "      <th>test</th>\n",
       "    </tr>\n",
       "    <tr>\n",
       "      <th>model_name</th>\n",
       "      <th></th>\n",
       "      <th></th>\n",
       "    </tr>\n",
       "  </thead>\n",
       "  <tbody>\n",
       "    <tr>\n",
       "      <th>soft_vote</th>\n",
       "      <td>0.024574</td>\n",
       "      <td>0.035780</td>\n",
       "    </tr>\n",
       "    <tr>\n",
       "      <th>hard_vote</th>\n",
       "      <td>0.020444</td>\n",
       "      <td>0.036241</td>\n",
       "    </tr>\n",
       "    <tr>\n",
       "      <th>stacked</th>\n",
       "      <td>0.023252</td>\n",
       "      <td>0.036242</td>\n",
       "    </tr>\n",
       "    <tr>\n",
       "      <th>best_logistic</th>\n",
       "      <td>0.020845</td>\n",
       "      <td>0.036829</td>\n",
       "    </tr>\n",
       "    <tr>\n",
       "      <th>bestMLP</th>\n",
       "      <td>0.016848</td>\n",
       "      <td>0.039467</td>\n",
       "    </tr>\n",
       "  </tbody>\n",
       "</table>\n",
       "</div>"
      ],
      "text/plain": [
       "set               train      test\n",
       "model_name                       \n",
       "soft_vote      0.024574  0.035780\n",
       "hard_vote      0.020444  0.036241\n",
       "stacked        0.023252  0.036242\n",
       "best_logistic  0.020845  0.036829\n",
       "bestMLP        0.016848  0.039467"
      ]
     },
     "execution_count": 55,
     "metadata": {},
     "output_type": "execute_result"
    }
   ],
   "source": [
    "# Quick  look to the performance std\n",
    "result2_df.groupby(by=['model_name','set']).agg({'std'}).loc[:,'accuracy'].unstack().droplevel(0,axis=1).filter(['train','test']).sort_values(by=['test'])"
   ]
  },
  {
   "cell_type": "code",
   "execution_count": 56,
   "metadata": {},
   "outputs": [
    {
     "data": {
      "image/png": "[encoded data removed]",
      "text/plain": [
       "<Figure size 1200x400 with 1 Axes>"
      ]
     },
     "metadata": {},
     "output_type": "display_data"
    }
   ],
   "source": [
    "fig, ax = plt.subplots(figsize=(12,4))\n",
    "\n",
    "sns.barplot(\n",
    "    data = result2_df.filter(['fold_id', 'model_name', 'set'] + [\"accuracy\"]),\n",
    "    x=\"model_name\", y=\"accuracy\", hue=\"set\",\n",
    "    palette=\"Reds\", alpha=.75, ax=ax, errorbar='sd'\n",
    ")\n",
    "\n",
    "sns.despine(top=True, right=True)\n",
    "\n",
    "# Set y-axis limits\n",
    "ax.set_ylim(0.7, 1)\n",
    "\n",
    "# Move legend outside of the plot\n",
    "ax.legend(loc='upper left', bbox_to_anchor=(1, 1))\n",
    "\n",
    "plt.tight_layout()  # Adjust layout so everything fits nicely\n",
    "plt.savefig('SleepIssueTypeExperiment2_accuracy.png', dpi=200 )\n",
    "plt.show()"
   ]
  },
  {
   "cell_type": "code",
   "execution_count": 57,
   "metadata": {},
   "outputs": [],
   "source": [
    "# Save the results\n",
    "result2_df.to_csv('Data/SleepIssueTypeFinalExperiment.csv')"
   ]
  },
  {
   "cell_type": "markdown",
   "metadata": {},
   "source": [
    "# Save Best _\"Sleep Issue Type\"_ Model\n",
    "\n",
    "Based on the results, we can see that logistic regression tends to have a higher performance, although there's a slight overfitting, this model is prefered for its simplicity specially when compared to the other algorithms. Therefore, lets save the logistic model parametrization to add in our app."
   ]
  },
  {
   "cell_type": "code",
   "execution_count": 4,
   "metadata": {},
   "outputs": [],
   "source": [
    "from modeling import train_and_save_model"
   ]
  },
  {
   "cell_type": "code",
   "execution_count": 9,
   "metadata": {},
   "outputs": [],
   "source": [
    "train_and_save_model(\"SleepIssueType_ModelScaled\", best_logistic_model, disorder_pipeline=True)"
   ]
  }
 ],
 "metadata": {
  "kernelspec": {
   "display_name": "prenv",
   "language": "python",
   "name": "prenv"
  },
  "language_info": {
   "codemirror_mode": {
    "name": "ipython",
    "version": 3
   },
   "file_extension": ".py",
   "mimetype": "text/x-python",
   "name": "python",
   "nbconvert_exporter": "python",
   "pygments_lexer": "ipython3",
   "version": "3.11.2"
  },
  "orig_nbformat": 4
 },
 "nbformat": 4,
 "nbformat_minor": 2
}
